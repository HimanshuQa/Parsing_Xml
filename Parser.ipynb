{
 "cells": [
  {
   "cell_type": "code",
   "execution_count": 1,
   "metadata": {},
   "outputs": [],
   "source": [
    "import pandas as pd\n",
    "import xml.etree.ElementTree as ET\n"
   ]
  },
  {
   "cell_type": "code",
   "execution_count": 2,
   "metadata": {},
   "outputs": [],
   "source": [
    "xml = ET.parse(r'C:\\Users\\HIM\\Desktop\\chromedriver_win32\\sample1.xml')"
   ]
  },
  {
   "cell_type": "code",
   "execution_count": 6,
   "metadata": {
    "scrolled": true
   },
   "outputs": [],
   "source": [
    "def parse(child,space):\n",
    "    if len(child.getchildren())>0:\n",
    "        print(\" \"*space, child.tag+\" ::\",child.attrib)\n",
    "        for n in child:\n",
    "            parse(n,space+3)\n",
    "    else:\n",
    "        if child.text is not None:\n",
    "            if len(child.keys())>0:\n",
    "                print(\" \"*space,child.tag+\" ::\",child.attrib,)\n",
    "            else:\n",
    "                print(\" \"*space,child.tag+\" ::\",child.text)\n"
   ]
  },
  {
   "cell_type": "code",
   "execution_count": 7,
   "metadata": {},
   "outputs": [
    {
     "name": "stdout",
     "output_type": "stream",
     "text": [
      " catalog :: {}\n",
      "    product :: {'description': 'Cardigan Sweater', 'product_image': 'cardigan.jpg'}\n",
      "       catalog_item :: {'gender': \"Men's\"}\n",
      "          item_number :: QWZ5671\n",
      "          price :: 39.95\n",
      "          size :: {'description': 'Medium'}\n",
      "             color_swatch :: {'image': 'red_cardigan.jpg'}\n",
      "             color_swatch :: {'image': 'burgundy_cardigan.jpg'}\n",
      "          size :: {'description': 'Large'}\n",
      "             color_swatch :: {'image': 'red_cardigan.jpg'}\n",
      "             color_swatch :: {'image': 'burgundy_cardigan.jpg'}\n",
      "       catalog_item :: {'gender': \"Women's\"}\n",
      "          item_number :: RRX9856\n",
      "          price :: 42.50\n",
      "          size :: {'description': 'Small'}\n",
      "             color_swatch :: {'image': 'red_cardigan.jpg'}\n",
      "             color_swatch :: {'image': 'navy_cardigan.jpg'}\n",
      "             color_swatch :: {'image': 'burgundy_cardigan.jpg'}\n",
      "          size :: {'description': 'Medium'}\n",
      "             color_swatch :: {'image': 'red_cardigan.jpg'}\n",
      "             color_swatch :: {'image': 'navy_cardigan.jpg'}\n",
      "             color_swatch :: {'image': 'burgundy_cardigan.jpg'}\n",
      "             color_swatch :: {'image': 'black_cardigan.jpg'}\n",
      "          size :: {'description': 'Large'}\n",
      "             color_swatch :: {'image': 'navy_cardigan.jpg'}\n",
      "             color_swatch :: {'image': 'black_cardigan.jpg'}\n",
      "          size :: {'description': 'Extra Large'}\n",
      "             color_swatch :: {'image': 'burgundy_cardigan.jpg'}\n",
      "             color_swatch :: {'image': 'black_cardigan.jpg'}\n"
     ]
    }
   ],
   "source": [
    "parse(xml.getroot(),0)"
   ]
  }
 ],
 "metadata": {
  "kernelspec": {
   "display_name": "Python 3",
   "language": "python",
   "name": "python3"
  },
  "language_info": {
   "codemirror_mode": {
    "name": "ipython",
    "version": 3
   },
   "file_extension": ".py",
   "mimetype": "text/x-python",
   "name": "python",
   "nbconvert_exporter": "python",
   "pygments_lexer": "ipython3",
   "version": "3.6.5"
  }
 },
 "nbformat": 4,
 "nbformat_minor": 2
}
