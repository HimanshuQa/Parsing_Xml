{
 "cells": [
  {
   "cell_type": "code",
   "execution_count": 1,
   "metadata": {},
   "outputs": [],
   "source": [
    "import xml.etree.ElementTree as ET"
   ]
  },
  {
   "cell_type": "code",
   "execution_count": 4,
   "metadata": {},
   "outputs": [],
   "source": [
    "xml = ET.parse('/home/himanshuchaudhary/jupyter notebooks/sample1.xml')\n"
   ]
  },
  {
   "cell_type": "code",
   "execution_count": 69,
   "metadata": {},
   "outputs": [],
   "source": [
    "def find_element(xml,element_to_find):\n",
    "    \n",
    "    all_elememnt = root.findall(\".//{}\".format(element_to_find))\n",
    "    if len(all_elememnt) == 0:\n",
    "        print('element does not exist')\n",
    "        return \n",
    "    for elem in all_elememnt:\n",
    "        print(\"Tag name :{} , Attribute : {} , Text : {} \".format(elem.tag, elem.attrib,elem.text))\n",
    "        \n",
    "                \n",
    "    "
   ]
  }
 ],
 "metadata": {
  "kernelspec": {
   "display_name": "Python 3",
   "language": "python",
   "name": "python3"
  },
  "language_info": {
   "codemirror_mode": {
    "name": "ipython",
    "version": 3
   },
   "file_extension": ".py",
   "mimetype": "text/x-python",
   "name": "python",
   "nbconvert_exporter": "python",
   "pygments_lexer": "ipython3",
   "version": "3.6.5"
  }
 },
 "nbformat": 4,
 "nbformat_minor": 2
}
